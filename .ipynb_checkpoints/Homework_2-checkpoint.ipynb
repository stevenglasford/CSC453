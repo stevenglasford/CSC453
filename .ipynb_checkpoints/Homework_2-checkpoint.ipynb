{
 "cells": [
  {
   "cell_type": "code",
   "execution_count": 2,
   "metadata": {},
   "outputs": [],
   "source": [
    "import pulp as p"
   ]
  },
  {
   "cell_type": "code",
   "execution_count": 3,
   "metadata": {},
   "outputs": [
    {
     "name": "stdout",
     "output_type": "stream",
     "text": [
      "Problem:\n",
      "MINIMIZE\n",
      "-4*x + -1*y + 0\n",
      "SUBJECT TO\n",
      "_C1: 3 x + 6 y <= 15\n",
      "\n",
      "_C2: 8 x + 2 y <= 12\n",
      "\n",
      "_C3: x >= 0\n",
      "\n",
      "_C4: y >= 0\n",
      "\n",
      "VARIABLES\n",
      "x Continuous\n",
      "y Continuous\n",
      "\n",
      "Optimal\n",
      "1.0 2.0 -6.0\n"
     ]
    }
   ],
   "source": [
    "# problem 1\n",
    "Lp_prob1 = p.LpProblem('Problem', p.LpMinimize)\n",
    "\n",
    "x1 = p.LpVariable('x1',lowBound = 0)\n",
    "y1 = p.LpVariable('y1',lowBound = 0)\n",
    "\n",
    "# Objective function\n",
    "Lp_prob1 += -4*x1 - y1\n",
    "\n",
    "# Constraints\n",
    "Lp_prob1 += 3*x1 + 6*y1 <= 15\n",
    "Lp_prob1 += 8*x1 + 2*y1 <= 12\n",
    "Lp_prob1 += x1 >= 0\n",
    "Lp_prob1 += y1 >= 0\n",
    "\n",
    "print(Lp_prob1)\n",
    "status = Lp_prob1.solve()\n",
    "print(p.LpStatus[status])\n",
    "print(p.value(x1), p.value(y1), p.value(Lp_prob1.objective))"
   ]
  },
  {
   "cell_type": "code",
   "execution_count": 5,
   "metadata": {},
   "outputs": [
    {
     "name": "stdout",
     "output_type": "stream",
     "text": [
      "Problem:\n",
      "MAXIMIZE\n",
      "1*x2 + 2*y2 + -1*z + 0\n",
      "SUBJECT TO\n",
      "_C1: 4 y2 + z2 <= 40\n",
      "\n",
      "_C2: x2 - y2 <= 20\n",
      "\n",
      "_C3: 2 x2 + 4 y2 + 3 z2 <= 60\n",
      "\n",
      "_C4: x2 >= 0\n",
      "\n",
      "_C5: y2 >= 0\n",
      "\n",
      "_C6: z2 >= 0\n",
      "\n",
      "VARIABLES\n",
      "x2 Continuous\n",
      "y2 Continuous\n",
      "z Continuous\n",
      "z2 Continuous\n",
      "\n",
      "Optimal\n",
      "23.333333 3.3333333 0.0 29.9999996\n"
     ]
    }
   ],
   "source": [
    "# Problem 2\n",
    "Lp_prob2 = p.LpProblem('Problem', p.LpMaximize)\n",
    "\n",
    "x2 = p.LpVariable('x2',lowBound = 0)\n",
    "y2 = p.LpVariable('y2',lowBound = 0)\n",
    "z2 = p.LpVariable('z2',lowBound = 0)\n",
    "\n",
    "# Objective function\n",
    "Lp_prob2 += x2 + 2*y2 - z\n",
    "\n",
    "# Constraints\n",
    "Lp_prob2 += 4*y2 + z2 <= 40\n",
    "Lp_prob2 += x2 - y2 <= 20\n",
    "Lp_prob2 += 2*x2 + 4*y2 + 3*z2 <= 60\n",
    "Lp_prob2 += x2 >= 0\n",
    "Lp_prob2 += y2 >= 0\n",
    "Lp_prob2 += z2 >= 0\n",
    "\n",
    "# Produce the output\n",
    "print(Lp_prob2)\n",
    "status = Lp_prob2.solve()\n",
    "print(p.LpStatus[status])\n",
    "print(p.value(x2), p.value(y2), p.value(z2), p.value(Lp_prob2.objective))"
   ]
  },
  {
   "cell_type": "code",
   "execution_count": null,
   "metadata": {},
   "outputs": [],
   "source": []
  }
 ],
 "metadata": {
  "kernelspec": {
   "display_name": "Python 3",
   "language": "python",
   "name": "python3"
  },
  "language_info": {
   "codemirror_mode": {
    "name": "ipython",
    "version": 3
   },
   "file_extension": ".py",
   "mimetype": "text/x-python",
   "name": "python",
   "nbconvert_exporter": "python",
   "pygments_lexer": "ipython3",
   "version": "3.7.3"
  }
 },
 "nbformat": 4,
 "nbformat_minor": 4
}
