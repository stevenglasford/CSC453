{
 "cells": [
  {
   "cell_type": "code",
   "execution_count": 33,
   "metadata": {},
   "outputs": [
    {
     "name": "stdout",
     "output_type": "stream",
     "text": [
      "Data from NetworkX\n",
      "Name: \n",
      "Type: Graph\n",
      "Number of nodes: 3890\n",
      "Number of edges: 38739\n",
      "Average degree:  19.9172\n",
      "\n",
      "Data from calculations from the adjacency list\n",
      "Is the graph directed: False\n",
      "Number of nodes: 3890\n",
      "Number of edges: 38739.0\n",
      "Number of self loops: 894\n",
      "Average degree: 19.917223650385605\n",
      "\n",
      "The information from NetworkX is the same as the \n",
      "calulations on the adjacency matrix, so we can have a high\n",
      "level of confidence that our network is correct.\n"
     ]
    }
   ],
   "source": [
    "import scipy.io as sio\n",
    "from scipy.sparse import csc_matrix as csc\n",
    "import networkx as nx\n",
    "import matplotlib.pyplot as plt\n",
    "import numpy as np\n",
    "\n",
    "mat_contents = sio.loadmat(\"Homo_sapiens.mat\")\n",
    "dense = mat_contents['network'].todense()\n",
    "numberOfNodes = np.shape(dense)[0]\n",
    "numberOfEdges = np.sum(np.tril(dense))\n",
    "averageDegree = (np.sum(dense)+np.trace(dense))/np.shape(dense)[0]\n",
    "numberOfSelfLoops = nx.number_of_selfloops(G)\n",
    "#print(dense)\n",
    "\n",
    "#G=nx.read_edgelist(dense)\n",
    "G = nx.from_numpy_matrix(dense)\n",
    "\n",
    "\n",
    "print(\n",
    "    \"Data from NetworkX\\n\"+\n",
    "    nx.info(G) +\n",
    "    \n",
    "    \"\\n\\nData from calculations from the adjacency list\"+\n",
    "    \"\\nIs the graph directed: \"  + str(nx.is_directed(G)) +\n",
    "    \"\\nNumber of nodes: \" + str(numberOfNodes) +\n",
    "    \"\\nNumber of edges: \" + str(numberOfEdges) +\n",
    "    \"\\nNumber of self loops: \" + str(numberOfSelfLoops) +\n",
    "    \"\\nAverage degree: \" + str(averageDegree) +\n",
    "    \"\\n\\nThe information from NetworkX is the same as the \\n\" +\n",
    "    \"calulations on the adjacency matrix, so we can have a high\\n\" +\n",
    "    \"level of confidence that our network is correct.\" \n",
    ")"
   ]
  },
  {
   "cell_type": "code",
   "execution_count": null,
   "metadata": {},
   "outputs": [],
   "source": []
  },
  {
   "cell_type": "code",
   "execution_count": null,
   "metadata": {},
   "outputs": [],
   "source": []
  }
 ],
 "metadata": {
  "kernelspec": {
   "display_name": "Python 3",
   "language": "python",
   "name": "python3"
  },
  "language_info": {
   "codemirror_mode": {
    "name": "ipython",
    "version": 3
   },
   "file_extension": ".py",
   "mimetype": "text/x-python",
   "name": "python",
   "nbconvert_exporter": "python",
   "pygments_lexer": "ipython3",
   "version": "3.7.3"
  }
 },
 "nbformat": 4,
 "nbformat_minor": 2
}
