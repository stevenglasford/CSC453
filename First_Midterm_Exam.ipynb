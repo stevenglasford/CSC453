{
 "cells": [
  {
   "cell_type": "code",
   "execution_count": 11,
   "metadata": {},
   "outputs": [],
   "source": [
    "# Import the library pulp as p\n",
    "import pulp as p"
   ]
  },
  {
   "cell_type": "code",
   "execution_count": 12,
   "metadata": {},
   "outputs": [],
   "source": [
    "# Create an LP Minimization problem\n",
    "Lp_prob = p.LpProblem('Problem',p.LpMinimize)\n"
   ]
  },
  {
   "cell_type": "code",
   "execution_count": 13,
   "metadata": {},
   "outputs": [],
   "source": [
    "# Create problem variables\n",
    "l= p.LpVariable(\"l\",lowBound=0)\n",
    "h= p.LpVariable(\"h\",lowBound=0)"
   ]
  },
  {
   "cell_type": "code",
   "execution_count": 14,
   "metadata": {},
   "outputs": [],
   "source": [
    "# Objective function\n",
    "Lp_prob += 20*l+15*h"
   ]
  },
  {
   "cell_type": "code",
   "execution_count": 15,
   "metadata": {},
   "outputs": [],
   "source": [
    "# Constraints\n",
    "Lp_prob +=  .4*l + .32*h >= 1000000\n",
    "Lp_prob +=  .2*l +  .4*h >= 500000\n",
    "Lp_prob += .35*l +  .2*h >= 300000"
   ]
  },
  {
   "cell_type": "code",
   "execution_count": 16,
   "metadata": {
    "scrolled": true
   },
   "outputs": [
    {
     "name": "stdout",
     "output_type": "stream",
     "text": [
      "Problem:\n",
      "MINIMIZE\n",
      "15*h + 20*l + 0\n",
      "SUBJECT TO\n",
      "_C1: 0.32 h + 0.4 l >= 1000000\n",
      "\n",
      "_C2: 0.4 h + 0.2 l >= 500000\n",
      "\n",
      "_C3: 0.2 h + 0.35 l >= 300000\n",
      "\n",
      "VARIABLES\n",
      "h Continuous\n",
      "l Continuous\n",
      "\n"
     ]
    }
   ],
   "source": [
    "print(Lp_prob)"
   ]
  },
  {
   "cell_type": "code",
   "execution_count": 17,
   "metadata": {},
   "outputs": [],
   "source": [
    "status = Lp_prob.solve()"
   ]
  },
  {
   "cell_type": "code",
   "execution_count": 18,
   "metadata": {},
   "outputs": [
    {
     "name": "stdout",
     "output_type": "stream",
     "text": [
      "Optimal\n"
     ]
    }
   ],
   "source": [
    "print(p.LpStatus[status])"
   ]
  },
  {
   "cell_type": "code",
   "execution_count": 19,
   "metadata": {},
   "outputs": [
    {
     "name": "stdout",
     "output_type": "stream",
     "text": [
      "0.0 3125000.0 46875000.0\n"
     ]
    }
   ],
   "source": [
    "print(p.value(l),p.value(h), p.value(Lp_prob.objective))"
   ]
  },
  {
   "cell_type": "code",
   "execution_count": null,
   "metadata": {},
   "outputs": [],
   "source": []
  }
 ],
 "metadata": {
  "kernelspec": {
   "display_name": "Python 3",
   "language": "python",
   "name": "python3"
  },
  "language_info": {
   "codemirror_mode": {
    "name": "ipython",
    "version": 3
   },
   "file_extension": ".py",
   "mimetype": "text/x-python",
   "name": "python",
   "nbconvert_exporter": "python",
   "pygments_lexer": "ipython3",
   "version": "3.7.3"
  }
 },
 "nbformat": 4,
 "nbformat_minor": 2
}
